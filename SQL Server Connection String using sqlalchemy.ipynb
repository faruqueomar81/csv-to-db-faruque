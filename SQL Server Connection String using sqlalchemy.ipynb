{
 "cells": [
  {
   "cell_type": "code",
   "execution_count": 12,
   "id": "732f956f",
   "metadata": {},
   "outputs": [],
   "source": [
    "from sqlalchemy import create_engine\n",
    "from sqlalchemy.engine import URL\n",
    "import pandas as pd"
   ]
  },
  {
   "cell_type": "code",
   "execution_count": 13,
   "id": "7fb5c7ee",
   "metadata": {},
   "outputs": [],
   "source": [
    "SERVER='OHYWSQL6-D'\n",
    "DATABASE='DPMO'\n",
    "DRIVER='SQL Server Native Client 11.0'\n",
    "USERNAME='dpmo_admin'\n",
    "PASSWORD='dP^0_@dm!n'\n",
    "DATABASE_CONNECTION= r'mssql+pyodbc://{USERNAME}:{PASSWORD}@{SERVER}/{DATABASE}?driver={DRIVER}'\n",
    "\n",
    "connection_string = \"DRIVER={SQL Server Native Client 11.0};SERVER=OHYWSQL6-D;DATABASE=DPMO;UID=dpmo_admin;PWD=dP^0_@dm!n\"\n",
    "connection_url = URL.create(\"mssql+pyodbc\", query={\"odbc_connect\": connection_string})\n",
    "\n",
    "engine=create_engine(connection_url)\n",
    "connection=engine.connect()"
   ]
  },
  {
   "cell_type": "code",
   "execution_count": 16,
   "id": "e2f99a3c",
   "metadata": {},
   "outputs": [],
   "source": [
    "data=pd.read_sql_query(\"Select * from [DPMO].[dbo].[DPMO_PROJECT_SUMMARY_MFTEST]\",connection)"
   ]
  },
  {
   "cell_type": "code",
   "execution_count": 19,
   "id": "1657e9c5",
   "metadata": {},
   "outputs": [
    {
     "name": "stdout",
     "output_type": "stream",
     "text": [
      "mssql+pyodbc://?odbc_connect=DRIVER%3D%7BSQL+Server+Native+Client+11.0%7D%3BSERVER%3DOHYWSQL6-D%3BDATABASE%3DDPMO%3BUID%3Ddpmo_admin%3BPWD%3DdP%5E0_%40dm%21n\n"
     ]
    }
   ],
   "source": [
    "print(connection_url)\n"
   ]
  },
  {
   "cell_type": "code",
   "execution_count": 20,
   "id": "1831a3d7",
   "metadata": {},
   "outputs": [
    {
     "data": {
      "text/html": [
       "<div>\n",
       "<style scoped>\n",
       "    .dataframe tbody tr th:only-of-type {\n",
       "        vertical-align: middle;\n",
       "    }\n",
       "\n",
       "    .dataframe tbody tr th {\n",
       "        vertical-align: top;\n",
       "    }\n",
       "\n",
       "    .dataframe thead th {\n",
       "        text-align: right;\n",
       "    }\n",
       "</style>\n",
       "<table border=\"1\" class=\"dataframe\">\n",
       "  <thead>\n",
       "    <tr style=\"text-align: right;\">\n",
       "      <th></th>\n",
       "      <th>Record_ID</th>\n",
       "      <th>Ticket_Number</th>\n",
       "      <th>Status</th>\n",
       "      <th>Assigned_To</th>\n",
       "      <th>Submitted_By</th>\n",
       "      <th>Description</th>\n",
       "      <th>Created_By</th>\n",
       "    </tr>\n",
       "  </thead>\n",
       "  <tbody>\n",
       "    <tr>\n",
       "      <th>0</th>\n",
       "      <td>237</td>\n",
       "      <td>100.0</td>\n",
       "      <td>In Progress</td>\n",
       "      <td>Mary</td>\n",
       "      <td>Faruque</td>\n",
       "      <td>1.0</td>\n",
       "      <td>None</td>\n",
       "    </tr>\n",
       "    <tr>\n",
       "      <th>1</th>\n",
       "      <td>238</td>\n",
       "      <td>101.0</td>\n",
       "      <td>On Hold</td>\n",
       "      <td>Faruque</td>\n",
       "      <td>Mary</td>\n",
       "      <td>2.0</td>\n",
       "      <td>None</td>\n",
       "    </tr>\n",
       "    <tr>\n",
       "      <th>2</th>\n",
       "      <td>239</td>\n",
       "      <td>102.0</td>\n",
       "      <td>Finalized</td>\n",
       "      <td>Chad</td>\n",
       "      <td>Faruque</td>\n",
       "      <td>3.0</td>\n",
       "      <td>None</td>\n",
       "    </tr>\n",
       "    <tr>\n",
       "      <th>3</th>\n",
       "      <td>240</td>\n",
       "      <td>104.0</td>\n",
       "      <td>New Request</td>\n",
       "      <td>Faruque</td>\n",
       "      <td>Mary</td>\n",
       "      <td>4.0</td>\n",
       "      <td>None</td>\n",
       "    </tr>\n",
       "    <tr>\n",
       "      <th>4</th>\n",
       "      <td>241</td>\n",
       "      <td>56.0</td>\n",
       "      <td>Done</td>\n",
       "      <td>Mary</td>\n",
       "      <td>Mary</td>\n",
       "      <td>6.0</td>\n",
       "      <td>None</td>\n",
       "    </tr>\n",
       "  </tbody>\n",
       "</table>\n",
       "</div>"
      ],
      "text/plain": [
       "   Record_ID  Ticket_Number       Status Assigned_To Submitted_By  \\\n",
       "0        237          100.0  In Progress        Mary      Faruque   \n",
       "1        238          101.0      On Hold     Faruque         Mary   \n",
       "2        239          102.0    Finalized        Chad      Faruque   \n",
       "3        240          104.0  New Request     Faruque         Mary   \n",
       "4        241           56.0         Done        Mary         Mary   \n",
       "\n",
       "   Description Created_By  \n",
       "0          1.0       None  \n",
       "1          2.0       None  \n",
       "2          3.0       None  \n",
       "3          4.0       None  \n",
       "4          6.0       None  "
      ]
     },
     "execution_count": 20,
     "metadata": {},
     "output_type": "execute_result"
    }
   ],
   "source": [
    "data.head()\n"
   ]
  },
  {
   "cell_type": "code",
   "execution_count": null,
   "id": "d69e3bfb",
   "metadata": {},
   "outputs": [],
   "source": []
  }
 ],
 "metadata": {
  "kernelspec": {
   "display_name": "Python 3 (ipykernel)",
   "language": "python",
   "name": "python3"
  },
  "language_info": {
   "codemirror_mode": {
    "name": "ipython",
    "version": 3
   },
   "file_extension": ".py",
   "mimetype": "text/x-python",
   "name": "python",
   "nbconvert_exporter": "python",
   "pygments_lexer": "ipython3",
   "version": "3.9.7"
  }
 },
 "nbformat": 4,
 "nbformat_minor": 5
}
