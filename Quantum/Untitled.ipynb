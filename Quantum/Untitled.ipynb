{
 "cells": [
  {
   "cell_type": "code",
   "execution_count": null,
   "id": "cb37f8aa",
   "metadata": {},
   "outputs": [],
   "source": []
  },
  {
   "cell_type": "code",
   "execution_count": 71,
   "id": "b8de7e81",
   "metadata": {},
   "outputs": [],
   "source": [
    "import os\n",
    "import shutil\n",
    "import numpy as np\n",
    "import pandas as pd\n",
    "import psycopg2"
   ]
  },
  {
   "cell_type": "code",
   "execution_count": 72,
   "id": "324f57ca",
   "metadata": {},
   "outputs": [
    {
     "data": {
      "text/plain": [
       "['.ipynb_checkpoints', 'datasets', 'Untitled.ipynb', 'Well Data.csv']"
      ]
     },
     "execution_count": 72,
     "metadata": {},
     "output_type": "execute_result"
    }
   ],
   "source": [
    "os.listdir(os.getcwd())"
   ]
  },
  {
   "cell_type": "code",
   "execution_count": 73,
   "id": "ff125ad5",
   "metadata": {},
   "outputs": [],
   "source": [
    "\n",
    "\n",
    "    #get names of only csv files\n",
    "    csv_files = []\n",
    "    for file in os.listdir(os.getcwd()):\n",
    "        if file.endswith(\".csv\"):\n",
    "            csv_files.append(file)\n",
    "\n"
   ]
  },
  {
   "cell_type": "code",
   "execution_count": 74,
   "id": "061cf6e5",
   "metadata": {},
   "outputs": [],
   "source": [
    "dataset_dir= 'datasets'\n",
    "try:\n",
    "    mkdir= 'mkdir {0}'.format(dataset_dir)\n",
    "    os.sytems(mkdir)\n",
    "except:\n",
    "    pass"
   ]
  },
  {
   "cell_type": "code",
   "execution_count": null,
   "id": "30266ab3",
   "metadata": {},
   "outputs": [],
   "source": []
  },
  {
   "cell_type": "code",
   "execution_count": 75,
   "id": "95e6c96f",
   "metadata": {},
   "outputs": [],
   "source": [
    "try: \n",
    "    mkdir = 'mkdir {0}'.format(dataset_dir)\n",
    "    os.system(mkdir)\n",
    "except:\n",
    "    pass\n"
   ]
  },
  {
   "cell_type": "code",
   "execution_count": 81,
   "id": "7dc201da",
   "metadata": {},
   "outputs": [
    {
     "name": "stdout",
     "output_type": "stream",
     "text": [
      "'Well Data.csv' datasets\n"
     ]
    }
   ],
   "source": [
    "for csv in csv_files:\n",
    "    mv_file=\"'{0}' {1}\".format(csv, dataset_dir)\n",
    "    os.system(mv_file)\n",
    "    print(mv_file)"
   ]
  },
  {
   "cell_type": "code",
   "execution_count": 91,
   "id": "459ba87b",
   "metadata": {
    "scrolled": true
   },
   "outputs": [
    {
     "name": "stdout",
     "output_type": "stream",
     "text": [
      "'Well Data.csv' , datasets\n"
     ]
    }
   ],
   "source": [
    "mv_file = \"'{0}' {1} {2}\".format(csv,\",\", dataset_dir)\n",
    "shutil.move(csv,dataset_dir)\n",
    "print(mv_file)\n",
    "\n",
    "\n"
   ]
  },
  {
   "cell_type": "code",
   "execution_count": null,
   "id": "0600a8d6",
   "metadata": {},
   "outputs": [],
   "source": [
    "df['Well Data.csv'].head()"
   ]
  },
  {
   "cell_type": "code",
   "execution_count": null,
   "id": "a77b25b5",
   "metadata": {},
   "outputs": [],
   "source": []
  }
 ],
 "metadata": {
  "kernelspec": {
   "display_name": "Python 3",
   "language": "python",
   "name": "python3"
  },
  "language_info": {
   "codemirror_mode": {
    "name": "ipython",
    "version": 3
   },
   "file_extension": ".py",
   "mimetype": "text/x-python",
   "name": "python",
   "nbconvert_exporter": "python",
   "pygments_lexer": "ipython3",
   "version": "3.8.8"
  }
 },
 "nbformat": 4,
 "nbformat_minor": 5
}
